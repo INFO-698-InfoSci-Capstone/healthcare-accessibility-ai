{
  "nbformat": 4,
  "nbformat_minor": 0,
  "metadata": {
    "colab": {
      "provenance": []
    },
    "kernelspec": {
      "name": "python3",
      "display_name": "Python 3"
    },
    "language_info": {
      "name": "python"
    }
  },
  "cells": [
    {
      "cell_type": "code",
      "execution_count": 1,
      "metadata": {
        "id": "fTNIFWmwiHI0"
      },
      "outputs": [],
      "source": [
        "import pandas as pd\n",
        "import requests\n",
        "from geopy.distance import geodesic\n"
      ]
    },
    {
      "cell_type": "code",
      "source": [
        "# Load your CSV file\n",
        "df = pd.read_csv(\"socio_economic_df (1).csv\")\n",
        "\n",
        "# Ensure your CSV has latitude and longitude for each geoid\n",
        "# If not, you need a mapping to get those coordinates\n"
      ],
      "metadata": {
        "id": "xU4Epez3iJqx"
      },
      "execution_count": 2,
      "outputs": []
    },
    {
      "cell_type": "code",
      "source": [
        "def fetch_nearby_facilities(lat, lon, facility_type):\n",
        "    \"\"\"Fetch nearby hospitals, clinics, and pharmacies within 5km using OpenStreetMap.\"\"\"\n",
        "    overpass_url = \"http://overpass-api.de/api/interpreter\"\n",
        "    query = f\"\"\"\n",
        "    [out:json];\n",
        "    node[\"amenity\"=\"{facility_type}\"](around:5000,{lat},{lon});\n",
        "    out count;\n",
        "    \"\"\"\n",
        "    response = requests.get(overpass_url, params={\"data\": query})\n",
        "    if response.status_code == 200:\n",
        "        data = response.json()\n",
        "        return len(data.get(\"elements\", []))  # Count the number of facilities\n",
        "    return 0\n"
      ],
      "metadata": {
        "id": "GmViPjEHiPwb"
      },
      "execution_count": 3,
      "outputs": []
    },
    {
      "cell_type": "code",
      "source": [
        "facility_types = [\"hospital\", \"clinic\", \"pharmacy\"]\n",
        "\n",
        "df[\"hospital_count\"] = df.apply(lambda row: fetch_nearby_facilities(row[\"latitude\"], row[\"longitude\"], \"hospital\"), axis=1)\n",
        "df[\"clinic_count\"] = df.apply(lambda row: fetch_nearby_facilities(row[\"latitude\"], row[\"longitude\"], \"clinic\"), axis=1)\n",
        "df[\"pharmacy_count\"] = df.apply(lambda row: fetch_nearby_facilities(row[\"latitude\"], row[\"longitude\"], \"pharmacy\"), axis=1)\n",
        "\n",
        "# Save results\n",
        "df.to_csv(\"output_with_facility_counts.csv\", index=False)\n"
      ],
      "metadata": {
        "id": "cWMdOrrGiSCJ"
      },
      "execution_count": null,
      "outputs": []
    },
    {
      "cell_type": "code",
      "source": [],
      "metadata": {
        "id": "n4kr2205iXBS"
      },
      "execution_count": null,
      "outputs": []
    }
  ]
}