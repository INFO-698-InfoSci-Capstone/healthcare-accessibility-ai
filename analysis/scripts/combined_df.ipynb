{
 "cells": [
  {
   "cell_type": "code",
   "execution_count": 1,
   "id": "af889526-91ff-4d27-b08f-f2866a0fa415",
   "metadata": {},
   "outputs": [],
   "source": [
    "import pandas as pd\n",
    "import numpy as np"
   ]
  },
  {
   "cell_type": "markdown",
   "id": "8bea1411-b6f8-4e53-b715-934e04d7a173",
   "metadata": {},
   "source": [
    "## Socioeconomic"
   ]
  },
  {
   "cell_type": "code",
   "execution_count": 3,
   "id": "1ced677f-37a2-46d4-8bf9-2ade50b0bfd2",
   "metadata": {},
   "outputs": [],
   "source": [
    "df_socio = pd.read_csv(\"socioeconomic.csv\")"
   ]
  },
  {
   "cell_type": "code",
   "execution_count": 5,
   "id": "9e7d7b9a-5344-4eda-8c46-15801e530c2a",
   "metadata": {},
   "outputs": [
    {
     "name": "stdout",
     "output_type": "stream",
     "text": [
      "<class 'pandas.core.frame.DataFrame'>\n",
      "RangeIndex: 22692 entries, 0 to 22691\n",
      "Data columns (total 19 columns):\n",
      " #   Column                            Non-Null Count  Dtype  \n",
      "---  ------                            --------------  -----  \n",
      " 0   GEOID                             22692 non-null  int64  \n",
      " 1   Geography                         22692 non-null  object \n",
      " 2   state                             22692 non-null  int64  \n",
      " 3   county                            22692 non-null  int64  \n",
      " 4   tract                             22692 non-null  int64  \n",
      " 5   Total_Population                  22692 non-null  int64  \n",
      " 6   Total_Households                  22692 non-null  int64  \n",
      " 7   Median_Household_Income           22692 non-null  int64  \n",
      " 8   Uninsured_Rate                    22692 non-null  float64\n",
      " 9   Rent_as_Income_Percentage         22692 non-null  float64\n",
      " 10  Limited_English_Proficiency_Rate  22692 non-null  float64\n",
      " 11  No_Vehicle_Rate                   22692 non-null  float64\n",
      " 12  No_Internet_Rate                  22692 non-null  float64\n",
      " 13  latitude                          22692 non-null  float64\n",
      " 14  longitude                         22692 non-null  float64\n",
      " 15  Common State County FIPS Code     22692 non-null  int64  \n",
      " 16  HPSA Designation Date             22668 non-null  object \n",
      " 17  HPSA Score                        22668 non-null  float64\n",
      " 18  HPSA Status Code                  22668 non-null  object \n",
      "dtypes: float64(8), int64(8), object(3)\n",
      "memory usage: 3.3+ MB\n"
     ]
    }
   ],
   "source": [
    "df_socio.info()"
   ]
  },
  {
   "cell_type": "code",
   "execution_count": 60,
   "id": "fb2d16f5-613b-44b5-9624-bfc83d9a1f3b",
   "metadata": {},
   "outputs": [
    {
     "name": "stdout",
     "output_type": "stream",
     "text": [
      "Number of unique GEOID values: 22692\n"
     ]
    }
   ],
   "source": [
    "unique_geoids = df_socio['GEOID'].dropna().unique()\n",
    "print(\"Number of unique GEOID values:\", len(unique_geoids))"
   ]
  },
  {
   "cell_type": "code",
   "execution_count": 39,
   "id": "a9ef2de4-8e6b-430f-b93c-0cb0f42ad8bd",
   "metadata": {},
   "outputs": [
    {
     "data": {
      "text/plain": [
       "GEOID                                0\n",
       "Geography                            0\n",
       "state                                0\n",
       "county                               0\n",
       "tract                                0\n",
       "Total_Population                     0\n",
       "Total_Households                     0\n",
       "Median_Household_Income              0\n",
       "Uninsured_Rate                       0\n",
       "Rent_as_Income_Percentage            0\n",
       "Limited_English_Proficiency_Rate     0\n",
       "No_Vehicle_Rate                      0\n",
       "No_Internet_Rate                     0\n",
       "latitude                             0\n",
       "longitude                            0\n",
       "Common State County FIPS Code        0\n",
       "HPSA Designation Date               24\n",
       "HPSA Score                          24\n",
       "HPSA Status Code                    24\n",
       "dtype: int64"
      ]
     },
     "execution_count": 39,
     "metadata": {},
     "output_type": "execute_result"
    }
   ],
   "source": [
    "df_socio.isnull().sum()"
   ]
  },
  {
   "cell_type": "markdown",
   "id": "fdde7c62-472c-4043-bd00-384e7943dba5",
   "metadata": {},
   "source": [
    "## Healthcare"
   ]
  },
  {
   "cell_type": "code",
   "execution_count": 6,
   "id": "9f0a07e6-5c89-4771-bcd0-4072d991fa99",
   "metadata": {},
   "outputs": [],
   "source": [
    "df_hcare = pd.read_csv(\"healthcare.csv\")"
   ]
  },
  {
   "cell_type": "code",
   "execution_count": 7,
   "id": "898fcdb6-e865-4452-a2fb-4e3b4d372c76",
   "metadata": {},
   "outputs": [
    {
     "name": "stdout",
     "output_type": "stream",
     "text": [
      "<class 'pandas.core.frame.DataFrame'>\n",
      "RangeIndex: 27210 entries, 0 to 27209\n",
      "Data columns (total 32 columns):\n",
      " #   Column                  Non-Null Count  Dtype  \n",
      "---  ------                  --------------  -----  \n",
      " 0   TractFIPS               27210 non-null  int64  \n",
      " 1   StateAbbr               27210 non-null  object \n",
      " 2   PlaceName               27210 non-null  object \n",
      " 3   ACCESS2_CrudePrev       27209 non-null  float64\n",
      " 4   ARTHRITIS_CrudePrev     27210 non-null  float64\n",
      " 5   BINGE_CrudePrev         27210 non-null  float64\n",
      " 6   BPHIGH_CrudePrev        27210 non-null  float64\n",
      " 7   BPMED_CrudePrev         27210 non-null  float64\n",
      " 8   CANCER_CrudePrev        27210 non-null  float64\n",
      " 9   CASTHMA_CrudePrev       27210 non-null  float64\n",
      " 10  CHD_CrudePrev           27210 non-null  float64\n",
      " 11  CHECKUP_CrudePrev       27210 non-null  float64\n",
      " 12  CHOLSCREEN_CrudePrev    27210 non-null  float64\n",
      " 13  COLON_SCREEN_CrudePrev  27191 non-null  float64\n",
      " 14  COPD_CrudePrev          27210 non-null  float64\n",
      " 15  COREM_CrudePrev         27107 non-null  float64\n",
      " 16  COREW_CrudePrev         27101 non-null  float64\n",
      " 17  CSMOKING_CrudePrev      27210 non-null  float64\n",
      " 18  DENTAL_CrudePrev        27210 non-null  float64\n",
      " 19  DIABETES_CrudePrev      27210 non-null  float64\n",
      " 20  HIGHCHOL_CrudePrev      27210 non-null  float64\n",
      " 21  KIDNEY_CrudePrev        27210 non-null  float64\n",
      " 22  LPA_CrudePrev           27210 non-null  float64\n",
      " 23  MAMMOUSE_CrudePrev      27173 non-null  float64\n",
      " 24  MHLTH_CrudePrev         27210 non-null  float64\n",
      " 25  OBESITY_CrudePrev       27210 non-null  float64\n",
      " 26  PAPTEST_CrudePrev       25008 non-null  float64\n",
      " 27  PHLTH_CrudePrev         27210 non-null  float64\n",
      " 28  SLEEP_CrudePrev         27210 non-null  float64\n",
      " 29  STROKE_CrudePrev        27210 non-null  float64\n",
      " 30  TEETHLOST_CrudePrev     27150 non-null  float64\n",
      " 31  Geolocation             27210 non-null  object \n",
      "dtypes: float64(28), int64(1), object(3)\n",
      "memory usage: 6.6+ MB\n"
     ]
    }
   ],
   "source": [
    "df_hcare.info()"
   ]
  },
  {
   "cell_type": "code",
   "execution_count": 34,
   "id": "5c2196eb-6423-4615-b6ff-a798a4468ea2",
   "metadata": {},
   "outputs": [
    {
     "data": {
      "text/plain": [
       "0"
      ]
     },
     "execution_count": 34,
     "metadata": {},
     "output_type": "execute_result"
    }
   ],
   "source": [
    "df_hcare.duplicated().sum()"
   ]
  },
  {
   "cell_type": "code",
   "execution_count": 16,
   "id": "eb246f18-06e8-4047-8342-f07aa115efe3",
   "metadata": {},
   "outputs": [
    {
     "data": {
      "text/plain": [
       "TractFIPS                    0\n",
       "StateAbbr                    0\n",
       "PlaceName                    0\n",
       "ACCESS2_CrudePrev            1\n",
       "ARTHRITIS_CrudePrev          0\n",
       "BINGE_CrudePrev              0\n",
       "BPHIGH_CrudePrev             0\n",
       "BPMED_CrudePrev              0\n",
       "CANCER_CrudePrev             0\n",
       "CASTHMA_CrudePrev            0\n",
       "CHD_CrudePrev                0\n",
       "CHECKUP_CrudePrev            0\n",
       "CHOLSCREEN_CrudePrev         0\n",
       "COLON_SCREEN_CrudePrev      19\n",
       "COPD_CrudePrev               0\n",
       "COREM_CrudePrev            103\n",
       "COREW_CrudePrev            109\n",
       "CSMOKING_CrudePrev           0\n",
       "DENTAL_CrudePrev             0\n",
       "DIABETES_CrudePrev           0\n",
       "HIGHCHOL_CrudePrev           0\n",
       "KIDNEY_CrudePrev             0\n",
       "LPA_CrudePrev                0\n",
       "MAMMOUSE_CrudePrev          37\n",
       "MHLTH_CrudePrev              0\n",
       "OBESITY_CrudePrev            0\n",
       "PAPTEST_CrudePrev         2202\n",
       "PHLTH_CrudePrev              0\n",
       "SLEEP_CrudePrev              0\n",
       "STROKE_CrudePrev             0\n",
       "TEETHLOST_CrudePrev         60\n",
       "Geolocation                  0\n",
       "dtype: int64"
      ]
     },
     "execution_count": 16,
     "metadata": {},
     "output_type": "execute_result"
    }
   ],
   "source": [
    "df_hcare.isnull().sum()"
   ]
  },
  {
   "cell_type": "code",
   "execution_count": 17,
   "id": "08c2709b-cfeb-4b6d-941b-7d62d17b919c",
   "metadata": {},
   "outputs": [],
   "source": [
    "df_hcare = df_hcare.dropna(axis=1)"
   ]
  },
  {
   "cell_type": "code",
   "execution_count": 18,
   "id": "4e8d0a47-e06c-4ea1-9ee4-cc60d0390133",
   "metadata": {},
   "outputs": [
    {
     "data": {
      "text/plain": [
       "TractFIPS               0\n",
       "StateAbbr               0\n",
       "PlaceName               0\n",
       "ARTHRITIS_CrudePrev     0\n",
       "BINGE_CrudePrev         0\n",
       "BPHIGH_CrudePrev        0\n",
       "BPMED_CrudePrev         0\n",
       "CANCER_CrudePrev        0\n",
       "CASTHMA_CrudePrev       0\n",
       "CHD_CrudePrev           0\n",
       "CHECKUP_CrudePrev       0\n",
       "CHOLSCREEN_CrudePrev    0\n",
       "COPD_CrudePrev          0\n",
       "CSMOKING_CrudePrev      0\n",
       "DENTAL_CrudePrev        0\n",
       "DIABETES_CrudePrev      0\n",
       "HIGHCHOL_CrudePrev      0\n",
       "KIDNEY_CrudePrev        0\n",
       "LPA_CrudePrev           0\n",
       "MHLTH_CrudePrev         0\n",
       "OBESITY_CrudePrev       0\n",
       "PHLTH_CrudePrev         0\n",
       "SLEEP_CrudePrev         0\n",
       "STROKE_CrudePrev        0\n",
       "Geolocation             0\n",
       "dtype: int64"
      ]
     },
     "execution_count": 18,
     "metadata": {},
     "output_type": "execute_result"
    }
   ],
   "source": [
    "df_hcare.isnull().sum()"
   ]
  },
  {
   "cell_type": "code",
   "execution_count": 70,
   "id": "17a15a0a-48de-4e04-8478-400e8c295392",
   "metadata": {},
   "outputs": [
    {
     "data": {
      "text/plain": [
       "(27210, 25)"
      ]
     },
     "execution_count": 70,
     "metadata": {},
     "output_type": "execute_result"
    }
   ],
   "source": [
    "df_hcare.shape"
   ]
  },
  {
   "cell_type": "code",
   "execution_count": 69,
   "id": "6428da0f-1da1-429d-8f7e-6be811855d94",
   "metadata": {},
   "outputs": [
    {
     "data": {
      "text/html": [
       "<div>\n",
       "<style scoped>\n",
       "    .dataframe tbody tr th:only-of-type {\n",
       "        vertical-align: middle;\n",
       "    }\n",
       "\n",
       "    .dataframe tbody tr th {\n",
       "        vertical-align: top;\n",
       "    }\n",
       "\n",
       "    .dataframe thead th {\n",
       "        text-align: right;\n",
       "    }\n",
       "</style>\n",
       "<table border=\"1\" class=\"dataframe\">\n",
       "  <thead>\n",
       "    <tr style=\"text-align: right;\">\n",
       "      <th></th>\n",
       "      <th>TractFIPS</th>\n",
       "      <th>StateAbbr</th>\n",
       "      <th>PlaceName</th>\n",
       "      <th>ARTHRITIS_CrudePrev</th>\n",
       "      <th>BINGE_CrudePrev</th>\n",
       "      <th>BPHIGH_CrudePrev</th>\n",
       "      <th>BPMED_CrudePrev</th>\n",
       "      <th>CANCER_CrudePrev</th>\n",
       "      <th>CASTHMA_CrudePrev</th>\n",
       "      <th>CHD_CrudePrev</th>\n",
       "      <th>...</th>\n",
       "      <th>DIABETES_CrudePrev</th>\n",
       "      <th>HIGHCHOL_CrudePrev</th>\n",
       "      <th>KIDNEY_CrudePrev</th>\n",
       "      <th>LPA_CrudePrev</th>\n",
       "      <th>MHLTH_CrudePrev</th>\n",
       "      <th>OBESITY_CrudePrev</th>\n",
       "      <th>PHLTH_CrudePrev</th>\n",
       "      <th>SLEEP_CrudePrev</th>\n",
       "      <th>STROKE_CrudePrev</th>\n",
       "      <th>Geolocation</th>\n",
       "    </tr>\n",
       "  </thead>\n",
       "  <tbody>\n",
       "    <tr>\n",
       "      <th>86</th>\n",
       "      <td>1073014302</td>\n",
       "      <td>AL</td>\n",
       "      <td>Birmingham</td>\n",
       "      <td>18.9</td>\n",
       "      <td>16.0</td>\n",
       "      <td>30.3</td>\n",
       "      <td>71.9</td>\n",
       "      <td>4.0</td>\n",
       "      <td>10.5</td>\n",
       "      <td>3.1</td>\n",
       "      <td>...</td>\n",
       "      <td>8.3</td>\n",
       "      <td>25.7</td>\n",
       "      <td>2.1</td>\n",
       "      <td>24.5</td>\n",
       "      <td>12.4</td>\n",
       "      <td>30.7</td>\n",
       "      <td>9.2</td>\n",
       "      <td>36.4</td>\n",
       "      <td>2.2</td>\n",
       "      <td>(33.42446588290, -86.8841474217)</td>\n",
       "    </tr>\n",
       "    <tr>\n",
       "      <th>87</th>\n",
       "      <td>1073014413</td>\n",
       "      <td>AL</td>\n",
       "      <td>Birmingham</td>\n",
       "      <td>17.8</td>\n",
       "      <td>18.4</td>\n",
       "      <td>23.5</td>\n",
       "      <td>70.7</td>\n",
       "      <td>5.1</td>\n",
       "      <td>8.3</td>\n",
       "      <td>3.1</td>\n",
       "      <td>...</td>\n",
       "      <td>6.1</td>\n",
       "      <td>26.3</td>\n",
       "      <td>1.8</td>\n",
       "      <td>19.6</td>\n",
       "      <td>10.0</td>\n",
       "      <td>21.7</td>\n",
       "      <td>7.3</td>\n",
       "      <td>30.8</td>\n",
       "      <td>1.6</td>\n",
       "      <td>(33.42265931170, -86.8508620751)</td>\n",
       "    </tr>\n",
       "    <tr>\n",
       "      <th>89</th>\n",
       "      <td>1117030303</td>\n",
       "      <td>AL</td>\n",
       "      <td>Birmingham</td>\n",
       "      <td>13.4</td>\n",
       "      <td>20.4</td>\n",
       "      <td>22.2</td>\n",
       "      <td>55.4</td>\n",
       "      <td>2.8</td>\n",
       "      <td>9.6</td>\n",
       "      <td>1.8</td>\n",
       "      <td>...</td>\n",
       "      <td>4.2</td>\n",
       "      <td>20.8</td>\n",
       "      <td>1.4</td>\n",
       "      <td>21.2</td>\n",
       "      <td>12.3</td>\n",
       "      <td>29.4</td>\n",
       "      <td>7.3</td>\n",
       "      <td>37.4</td>\n",
       "      <td>1.1</td>\n",
       "      <td>(33.42586612390, -86.7138193560)</td>\n",
       "    </tr>\n",
       "    <tr>\n",
       "      <th>98</th>\n",
       "      <td>1073014302</td>\n",
       "      <td>AL</td>\n",
       "      <td>Hoover</td>\n",
       "      <td>20.9</td>\n",
       "      <td>17.5</td>\n",
       "      <td>27.3</td>\n",
       "      <td>69.4</td>\n",
       "      <td>5.0</td>\n",
       "      <td>9.0</td>\n",
       "      <td>3.6</td>\n",
       "      <td>...</td>\n",
       "      <td>7.0</td>\n",
       "      <td>29.5</td>\n",
       "      <td>2.0</td>\n",
       "      <td>23.8</td>\n",
       "      <td>12.1</td>\n",
       "      <td>28.3</td>\n",
       "      <td>10.0</td>\n",
       "      <td>33.2</td>\n",
       "      <td>1.9</td>\n",
       "      <td>(33.39237928670, -86.8833755105)</td>\n",
       "    </tr>\n",
       "    <tr>\n",
       "      <th>106</th>\n",
       "      <td>1073014413</td>\n",
       "      <td>AL</td>\n",
       "      <td>Hoover</td>\n",
       "      <td>24.9</td>\n",
       "      <td>15.5</td>\n",
       "      <td>30.6</td>\n",
       "      <td>76.1</td>\n",
       "      <td>6.9</td>\n",
       "      <td>8.6</td>\n",
       "      <td>4.5</td>\n",
       "      <td>...</td>\n",
       "      <td>7.9</td>\n",
       "      <td>33.6</td>\n",
       "      <td>2.2</td>\n",
       "      <td>20.9</td>\n",
       "      <td>9.9</td>\n",
       "      <td>25.7</td>\n",
       "      <td>9.4</td>\n",
       "      <td>30.1</td>\n",
       "      <td>2.1</td>\n",
       "      <td>(33.37339197610, -86.8534900912)</td>\n",
       "    </tr>\n",
       "    <tr>\n",
       "      <th>...</th>\n",
       "      <td>...</td>\n",
       "      <td>...</td>\n",
       "      <td>...</td>\n",
       "      <td>...</td>\n",
       "      <td>...</td>\n",
       "      <td>...</td>\n",
       "      <td>...</td>\n",
       "      <td>...</td>\n",
       "      <td>...</td>\n",
       "      <td>...</td>\n",
       "      <td>...</td>\n",
       "      <td>...</td>\n",
       "      <td>...</td>\n",
       "      <td>...</td>\n",
       "      <td>...</td>\n",
       "      <td>...</td>\n",
       "      <td>...</td>\n",
       "      <td>...</td>\n",
       "      <td>...</td>\n",
       "      <td>...</td>\n",
       "      <td>...</td>\n",
       "    </tr>\n",
       "    <tr>\n",
       "      <th>26438</th>\n",
       "      <td>53033029305</td>\n",
       "      <td>WA</td>\n",
       "      <td>Renton</td>\n",
       "      <td>22.7</td>\n",
       "      <td>15.3</td>\n",
       "      <td>27.4</td>\n",
       "      <td>68.0</td>\n",
       "      <td>6.9</td>\n",
       "      <td>9.0</td>\n",
       "      <td>5.1</td>\n",
       "      <td>...</td>\n",
       "      <td>9.0</td>\n",
       "      <td>31.6</td>\n",
       "      <td>2.9</td>\n",
       "      <td>17.2</td>\n",
       "      <td>11.4</td>\n",
       "      <td>21.1</td>\n",
       "      <td>11.0</td>\n",
       "      <td>31.2</td>\n",
       "      <td>2.8</td>\n",
       "      <td>(47.42666529650, -122.207690001)</td>\n",
       "    </tr>\n",
       "    <tr>\n",
       "      <th>26627</th>\n",
       "      <td>53063012200</td>\n",
       "      <td>WA</td>\n",
       "      <td>Spokane</td>\n",
       "      <td>20.5</td>\n",
       "      <td>19.1</td>\n",
       "      <td>25.0</td>\n",
       "      <td>64.3</td>\n",
       "      <td>5.1</td>\n",
       "      <td>11.3</td>\n",
       "      <td>4.6</td>\n",
       "      <td>...</td>\n",
       "      <td>7.7</td>\n",
       "      <td>28.7</td>\n",
       "      <td>2.5</td>\n",
       "      <td>21.3</td>\n",
       "      <td>15.6</td>\n",
       "      <td>29.5</td>\n",
       "      <td>12.7</td>\n",
       "      <td>33.5</td>\n",
       "      <td>2.5</td>\n",
       "      <td>(47.67983542600, -117.326957399)</td>\n",
       "    </tr>\n",
       "    <tr>\n",
       "      <th>26628</th>\n",
       "      <td>53063013401</td>\n",
       "      <td>WA</td>\n",
       "      <td>Spokane</td>\n",
       "      <td>24.6</td>\n",
       "      <td>16.3</td>\n",
       "      <td>28.1</td>\n",
       "      <td>71.9</td>\n",
       "      <td>7.5</td>\n",
       "      <td>10.0</td>\n",
       "      <td>5.1</td>\n",
       "      <td>...</td>\n",
       "      <td>8.0</td>\n",
       "      <td>33.1</td>\n",
       "      <td>2.7</td>\n",
       "      <td>16.7</td>\n",
       "      <td>11.3</td>\n",
       "      <td>26.7</td>\n",
       "      <td>11.0</td>\n",
       "      <td>29.8</td>\n",
       "      <td>2.6</td>\n",
       "      <td>(47.61878531620, -117.342867658)</td>\n",
       "    </tr>\n",
       "    <tr>\n",
       "      <th>26642</th>\n",
       "      <td>53063012200</td>\n",
       "      <td>WA</td>\n",
       "      <td>Spokane Valley</td>\n",
       "      <td>23.9</td>\n",
       "      <td>17.9</td>\n",
       "      <td>27.8</td>\n",
       "      <td>68.3</td>\n",
       "      <td>6.4</td>\n",
       "      <td>11.3</td>\n",
       "      <td>5.6</td>\n",
       "      <td>...</td>\n",
       "      <td>8.3</td>\n",
       "      <td>31.4</td>\n",
       "      <td>2.8</td>\n",
       "      <td>21.9</td>\n",
       "      <td>15.3</td>\n",
       "      <td>29.8</td>\n",
       "      <td>13.6</td>\n",
       "      <td>32.6</td>\n",
       "      <td>3.0</td>\n",
       "      <td>(47.66849666520, -117.319916960)</td>\n",
       "    </tr>\n",
       "    <tr>\n",
       "      <th>26657</th>\n",
       "      <td>53063013401</td>\n",
       "      <td>WA</td>\n",
       "      <td>Spokane Valley</td>\n",
       "      <td>23.2</td>\n",
       "      <td>17.4</td>\n",
       "      <td>26.7</td>\n",
       "      <td>70.7</td>\n",
       "      <td>7.1</td>\n",
       "      <td>10.2</td>\n",
       "      <td>4.7</td>\n",
       "      <td>...</td>\n",
       "      <td>7.5</td>\n",
       "      <td>31.3</td>\n",
       "      <td>2.6</td>\n",
       "      <td>16.4</td>\n",
       "      <td>11.4</td>\n",
       "      <td>26.8</td>\n",
       "      <td>10.4</td>\n",
       "      <td>30.0</td>\n",
       "      <td>2.4</td>\n",
       "      <td>(47.64127411060, -117.331713647)</td>\n",
       "    </tr>\n",
       "  </tbody>\n",
       "</table>\n",
       "<p>482 rows × 25 columns</p>\n",
       "</div>"
      ],
      "text/plain": [
       "         TractFIPS StateAbbr       PlaceName  ARTHRITIS_CrudePrev  \\\n",
       "86      1073014302        AL      Birmingham                 18.9   \n",
       "87      1073014413        AL      Birmingham                 17.8   \n",
       "89      1117030303        AL      Birmingham                 13.4   \n",
       "98      1073014302        AL          Hoover                 20.9   \n",
       "106     1073014413        AL          Hoover                 24.9   \n",
       "...            ...       ...             ...                  ...   \n",
       "26438  53033029305        WA          Renton                 22.7   \n",
       "26627  53063012200        WA         Spokane                 20.5   \n",
       "26628  53063013401        WA         Spokane                 24.6   \n",
       "26642  53063012200        WA  Spokane Valley                 23.9   \n",
       "26657  53063013401        WA  Spokane Valley                 23.2   \n",
       "\n",
       "       BINGE_CrudePrev  BPHIGH_CrudePrev  BPMED_CrudePrev  CANCER_CrudePrev  \\\n",
       "86                16.0              30.3             71.9               4.0   \n",
       "87                18.4              23.5             70.7               5.1   \n",
       "89                20.4              22.2             55.4               2.8   \n",
       "98                17.5              27.3             69.4               5.0   \n",
       "106               15.5              30.6             76.1               6.9   \n",
       "...                ...               ...              ...               ...   \n",
       "26438             15.3              27.4             68.0               6.9   \n",
       "26627             19.1              25.0             64.3               5.1   \n",
       "26628             16.3              28.1             71.9               7.5   \n",
       "26642             17.9              27.8             68.3               6.4   \n",
       "26657             17.4              26.7             70.7               7.1   \n",
       "\n",
       "       CASTHMA_CrudePrev  CHD_CrudePrev  ...  DIABETES_CrudePrev  \\\n",
       "86                  10.5            3.1  ...                 8.3   \n",
       "87                   8.3            3.1  ...                 6.1   \n",
       "89                   9.6            1.8  ...                 4.2   \n",
       "98                   9.0            3.6  ...                 7.0   \n",
       "106                  8.6            4.5  ...                 7.9   \n",
       "...                  ...            ...  ...                 ...   \n",
       "26438                9.0            5.1  ...                 9.0   \n",
       "26627               11.3            4.6  ...                 7.7   \n",
       "26628               10.0            5.1  ...                 8.0   \n",
       "26642               11.3            5.6  ...                 8.3   \n",
       "26657               10.2            4.7  ...                 7.5   \n",
       "\n",
       "       HIGHCHOL_CrudePrev  KIDNEY_CrudePrev  LPA_CrudePrev  MHLTH_CrudePrev  \\\n",
       "86                   25.7               2.1           24.5             12.4   \n",
       "87                   26.3               1.8           19.6             10.0   \n",
       "89                   20.8               1.4           21.2             12.3   \n",
       "98                   29.5               2.0           23.8             12.1   \n",
       "106                  33.6               2.2           20.9              9.9   \n",
       "...                   ...               ...            ...              ...   \n",
       "26438                31.6               2.9           17.2             11.4   \n",
       "26627                28.7               2.5           21.3             15.6   \n",
       "26628                33.1               2.7           16.7             11.3   \n",
       "26642                31.4               2.8           21.9             15.3   \n",
       "26657                31.3               2.6           16.4             11.4   \n",
       "\n",
       "       OBESITY_CrudePrev  PHLTH_CrudePrev  SLEEP_CrudePrev  STROKE_CrudePrev  \\\n",
       "86                  30.7              9.2             36.4               2.2   \n",
       "87                  21.7              7.3             30.8               1.6   \n",
       "89                  29.4              7.3             37.4               1.1   \n",
       "98                  28.3             10.0             33.2               1.9   \n",
       "106                 25.7              9.4             30.1               2.1   \n",
       "...                  ...              ...              ...               ...   \n",
       "26438               21.1             11.0             31.2               2.8   \n",
       "26627               29.5             12.7             33.5               2.5   \n",
       "26628               26.7             11.0             29.8               2.6   \n",
       "26642               29.8             13.6             32.6               3.0   \n",
       "26657               26.8             10.4             30.0               2.4   \n",
       "\n",
       "                            Geolocation  \n",
       "86     (33.42446588290, -86.8841474217)  \n",
       "87     (33.42265931170, -86.8508620751)  \n",
       "89     (33.42586612390, -86.7138193560)  \n",
       "98     (33.39237928670, -86.8833755105)  \n",
       "106    (33.37339197610, -86.8534900912)  \n",
       "...                                 ...  \n",
       "26438  (47.42666529650, -122.207690001)  \n",
       "26627  (47.67983542600, -117.326957399)  \n",
       "26628  (47.61878531620, -117.342867658)  \n",
       "26642  (47.66849666520, -117.319916960)  \n",
       "26657  (47.64127411060, -117.331713647)  \n",
       "\n",
       "[482 rows x 25 columns]"
      ]
     },
     "execution_count": 69,
     "metadata": {},
     "output_type": "execute_result"
    }
   ],
   "source": [
    "# Identify duplicate\n",
    "duplicates_in_hcare = df_hcare[df_hcare.duplicated(subset=['TractFIPS'], keep=False)]\n",
    "duplicates_in_hcare"
   ]
  },
  {
   "cell_type": "code",
   "execution_count": 71,
   "id": "504f596e-2a91-4e40-bc5f-e20c73710769",
   "metadata": {},
   "outputs": [],
   "source": [
    "df_hcare = df_hcare.drop_duplicates(subset=['TractFIPS'], keep='first')"
   ]
  },
  {
   "cell_type": "code",
   "execution_count": 72,
   "id": "4792d4cc-4b79-45a5-a518-cd57bdfc3ed9",
   "metadata": {},
   "outputs": [
    {
     "data": {
      "text/plain": [
       "(26968, 25)"
      ]
     },
     "execution_count": 72,
     "metadata": {},
     "output_type": "execute_result"
    }
   ],
   "source": [
    "df_hcare.shape"
   ]
  },
  {
   "cell_type": "markdown",
   "id": "c69d8921-9c8b-48ad-a2ac-6fa4af5c61ba",
   "metadata": {},
   "source": [
    "## Healthcare Count"
   ]
  },
  {
   "cell_type": "code",
   "execution_count": 12,
   "id": "2224b02d-1340-4e61-ad70-f1b79fc4ff15",
   "metadata": {},
   "outputs": [],
   "source": [
    "import geopandas as gpd"
   ]
  },
  {
   "cell_type": "code",
   "execution_count": 13,
   "id": "11239517-2edf-4024-99ef-cc0483b5037c",
   "metadata": {},
   "outputs": [],
   "source": [
    "df_hcount = gpd.read_file(\"healthcarecount.geojson\")"
   ]
  },
  {
   "cell_type": "code",
   "execution_count": 21,
   "id": "8ef6f724-d34e-47d6-a659-62a8fa3a7143",
   "metadata": {},
   "outputs": [],
   "source": [
    "df_hcount[\"GEOID\"] = pd.to_numeric(df_hcount[\"GEOID\"], errors=\"coerce\").astype(\"Int64\")"
   ]
  },
  {
   "cell_type": "code",
   "execution_count": 22,
   "id": "cd73e79e-d752-4fa7-838d-c682c35cabac",
   "metadata": {},
   "outputs": [
    {
     "name": "stdout",
     "output_type": "stream",
     "text": [
      "<class 'geopandas.geodataframe.GeoDataFrame'>\n",
      "RangeIndex: 84161 entries, 0 to 84160\n",
      "Data columns (total 9 columns):\n",
      " #   Column           Non-Null Count  Dtype   \n",
      "---  ------           --------------  -----   \n",
      " 0   GEOID            84161 non-null  Int64   \n",
      " 1   clinic           84161 non-null  float64 \n",
      " 2   dentist          84161 non-null  float64 \n",
      " 3   doctors          84161 non-null  float64 \n",
      " 4   hospital         84161 non-null  float64 \n",
      " 5   nursing_home     84161 non-null  float64 \n",
      " 6   pharmacy         84161 non-null  float64 \n",
      " 7   social_facility  84161 non-null  float64 \n",
      " 8   geometry         84161 non-null  geometry\n",
      "dtypes: Int64(1), float64(7), geometry(1)\n",
      "memory usage: 5.9 MB\n"
     ]
    }
   ],
   "source": [
    "df_hcount.info()"
   ]
  },
  {
   "cell_type": "code",
   "execution_count": 26,
   "id": "f265d463-8324-484b-9c7e-393b80c36bb1",
   "metadata": {},
   "outputs": [],
   "source": [
    "df_hcount = df_hcount.drop(columns=[\"geometry\"])"
   ]
  },
  {
   "cell_type": "code",
   "execution_count": 27,
   "id": "998a3744-b299-4563-a604-b8738a36a804",
   "metadata": {},
   "outputs": [],
   "source": [
    "df_hcount = gpd.GeoDataFrame(df_hcount)"
   ]
  },
  {
   "cell_type": "code",
   "execution_count": 28,
   "id": "9d9cd622-b351-4877-9a14-85f3667410f9",
   "metadata": {},
   "outputs": [],
   "source": [
    "df_merged = df_socio.merge(df_hcount, on=\"GEOID\", how=\"left\")"
   ]
  },
  {
   "cell_type": "code",
   "execution_count": 29,
   "id": "047b731b-e4e4-4cce-92fe-c4fd6a4891ec",
   "metadata": {},
   "outputs": [
    {
     "name": "stdout",
     "output_type": "stream",
     "text": [
      "<class 'pandas.core.frame.DataFrame'>\n",
      "RangeIndex: 22692 entries, 0 to 22691\n",
      "Data columns (total 26 columns):\n",
      " #   Column                            Non-Null Count  Dtype  \n",
      "---  ------                            --------------  -----  \n",
      " 0   GEOID                             22692 non-null  int64  \n",
      " 1   Geography                         22692 non-null  object \n",
      " 2   state                             22692 non-null  int64  \n",
      " 3   county                            22692 non-null  int64  \n",
      " 4   tract                             22692 non-null  int64  \n",
      " 5   Total_Population                  22692 non-null  int64  \n",
      " 6   Total_Households                  22692 non-null  int64  \n",
      " 7   Median_Household_Income           22692 non-null  int64  \n",
      " 8   Uninsured_Rate                    22692 non-null  float64\n",
      " 9   Rent_as_Income_Percentage         22692 non-null  float64\n",
      " 10  Limited_English_Proficiency_Rate  22692 non-null  float64\n",
      " 11  No_Vehicle_Rate                   22692 non-null  float64\n",
      " 12  No_Internet_Rate                  22692 non-null  float64\n",
      " 13  latitude                          22692 non-null  float64\n",
      " 14  longitude                         22692 non-null  float64\n",
      " 15  Common State County FIPS Code     22692 non-null  int64  \n",
      " 16  HPSA Designation Date             22668 non-null  object \n",
      " 17  HPSA Score                        22668 non-null  float64\n",
      " 18  HPSA Status Code                  22668 non-null  object \n",
      " 19  clinic                            22692 non-null  float64\n",
      " 20  dentist                           22692 non-null  float64\n",
      " 21  doctors                           22692 non-null  float64\n",
      " 22  hospital                          22692 non-null  float64\n",
      " 23  nursing_home                      22692 non-null  float64\n",
      " 24  pharmacy                          22692 non-null  float64\n",
      " 25  social_facility                   22692 non-null  float64\n",
      "dtypes: float64(15), int64(8), object(3)\n",
      "memory usage: 4.5+ MB\n"
     ]
    }
   ],
   "source": [
    "df_merged.info()"
   ]
  },
  {
   "cell_type": "markdown",
   "id": "0190de0b-5f2a-49eb-b548-8b021d6b010a",
   "metadata": {},
   "source": [
    "## Merging Data"
   ]
  },
  {
   "cell_type": "code",
   "execution_count": 73,
   "id": "dfcdf87b-d963-4fd7-822a-19a88f4e60b8",
   "metadata": {},
   "outputs": [],
   "source": [
    "df_final = df_merged.merge(df_hcare, left_on=\"GEOID\", right_on=\"TractFIPS\", how=\"left\")"
   ]
  },
  {
   "cell_type": "code",
   "execution_count": 74,
   "id": "8a4a358b-33a4-4742-b877-9a34ca0949a1",
   "metadata": {},
   "outputs": [
    {
     "name": "stdout",
     "output_type": "stream",
     "text": [
      "<class 'pandas.core.frame.DataFrame'>\n",
      "RangeIndex: 22692 entries, 0 to 22691\n",
      "Data columns (total 51 columns):\n",
      " #   Column                            Non-Null Count  Dtype  \n",
      "---  ------                            --------------  -----  \n",
      " 0   GEOID                             22692 non-null  int64  \n",
      " 1   Geography                         22692 non-null  object \n",
      " 2   state                             22692 non-null  int64  \n",
      " 3   county                            22692 non-null  int64  \n",
      " 4   tract                             22692 non-null  int64  \n",
      " 5   Total_Population                  22692 non-null  int64  \n",
      " 6   Total_Households                  22692 non-null  int64  \n",
      " 7   Median_Household_Income           22692 non-null  int64  \n",
      " 8   Uninsured_Rate                    22692 non-null  float64\n",
      " 9   Rent_as_Income_Percentage         22692 non-null  float64\n",
      " 10  Limited_English_Proficiency_Rate  22692 non-null  float64\n",
      " 11  No_Vehicle_Rate                   22692 non-null  float64\n",
      " 12  No_Internet_Rate                  22692 non-null  float64\n",
      " 13  latitude                          22692 non-null  float64\n",
      " 14  longitude                         22692 non-null  float64\n",
      " 15  Common State County FIPS Code     22692 non-null  int64  \n",
      " 16  HPSA Designation Date             22668 non-null  object \n",
      " 17  HPSA Score                        22668 non-null  float64\n",
      " 18  HPSA Status Code                  22668 non-null  object \n",
      " 19  clinic                            22692 non-null  float64\n",
      " 20  dentist                           22692 non-null  float64\n",
      " 21  doctors                           22692 non-null  float64\n",
      " 22  hospital                          22692 non-null  float64\n",
      " 23  nursing_home                      22692 non-null  float64\n",
      " 24  pharmacy                          22692 non-null  float64\n",
      " 25  social_facility                   22692 non-null  float64\n",
      " 26  TractFIPS                         22692 non-null  int64  \n",
      " 27  StateAbbr                         22692 non-null  object \n",
      " 28  PlaceName                         22692 non-null  object \n",
      " 29  ARTHRITIS_CrudePrev               22692 non-null  float64\n",
      " 30  BINGE_CrudePrev                   22692 non-null  float64\n",
      " 31  BPHIGH_CrudePrev                  22692 non-null  float64\n",
      " 32  BPMED_CrudePrev                   22692 non-null  float64\n",
      " 33  CANCER_CrudePrev                  22692 non-null  float64\n",
      " 34  CASTHMA_CrudePrev                 22692 non-null  float64\n",
      " 35  CHD_CrudePrev                     22692 non-null  float64\n",
      " 36  CHECKUP_CrudePrev                 22692 non-null  float64\n",
      " 37  CHOLSCREEN_CrudePrev              22692 non-null  float64\n",
      " 38  COPD_CrudePrev                    22692 non-null  float64\n",
      " 39  CSMOKING_CrudePrev                22692 non-null  float64\n",
      " 40  DENTAL_CrudePrev                  22692 non-null  float64\n",
      " 41  DIABETES_CrudePrev                22692 non-null  float64\n",
      " 42  HIGHCHOL_CrudePrev                22692 non-null  float64\n",
      " 43  KIDNEY_CrudePrev                  22692 non-null  float64\n",
      " 44  LPA_CrudePrev                     22692 non-null  float64\n",
      " 45  MHLTH_CrudePrev                   22692 non-null  float64\n",
      " 46  OBESITY_CrudePrev                 22692 non-null  float64\n",
      " 47  PHLTH_CrudePrev                   22692 non-null  float64\n",
      " 48  SLEEP_CrudePrev                   22692 non-null  float64\n",
      " 49  STROKE_CrudePrev                  22692 non-null  float64\n",
      " 50  Geolocation                       22692 non-null  object \n",
      "dtypes: float64(36), int64(9), object(6)\n",
      "memory usage: 8.8+ MB\n"
     ]
    }
   ],
   "source": [
    "df_final.info()"
   ]
  },
  {
   "cell_type": "code",
   "execution_count": 75,
   "id": "025b74d8-7b80-4c25-a0e3-0832b8f6c4a7",
   "metadata": {},
   "outputs": [
    {
     "data": {
      "text/plain": [
       "(22692, 51)"
      ]
     },
     "execution_count": 75,
     "metadata": {},
     "output_type": "execute_result"
    }
   ],
   "source": [
    "df_final.shape"
   ]
  },
  {
   "cell_type": "code",
   "execution_count": 76,
   "id": "f3ee131d-c077-4236-a5b8-3c7eeb423ecb",
   "metadata": {},
   "outputs": [
    {
     "data": {
      "text/html": [
       "<div>\n",
       "<style scoped>\n",
       "    .dataframe tbody tr th:only-of-type {\n",
       "        vertical-align: middle;\n",
       "    }\n",
       "\n",
       "    .dataframe tbody tr th {\n",
       "        vertical-align: top;\n",
       "    }\n",
       "\n",
       "    .dataframe thead th {\n",
       "        text-align: right;\n",
       "    }\n",
       "</style>\n",
       "<table border=\"1\" class=\"dataframe\">\n",
       "  <thead>\n",
       "    <tr style=\"text-align: right;\">\n",
       "      <th></th>\n",
       "      <th>GEOID</th>\n",
       "      <th>Geography</th>\n",
       "      <th>state</th>\n",
       "      <th>county</th>\n",
       "      <th>tract</th>\n",
       "      <th>Total_Population</th>\n",
       "      <th>Total_Households</th>\n",
       "      <th>Median_Household_Income</th>\n",
       "      <th>Uninsured_Rate</th>\n",
       "      <th>Rent_as_Income_Percentage</th>\n",
       "      <th>...</th>\n",
       "      <th>DIABETES_CrudePrev</th>\n",
       "      <th>HIGHCHOL_CrudePrev</th>\n",
       "      <th>KIDNEY_CrudePrev</th>\n",
       "      <th>LPA_CrudePrev</th>\n",
       "      <th>MHLTH_CrudePrev</th>\n",
       "      <th>OBESITY_CrudePrev</th>\n",
       "      <th>PHLTH_CrudePrev</th>\n",
       "      <th>SLEEP_CrudePrev</th>\n",
       "      <th>STROKE_CrudePrev</th>\n",
       "      <th>Geolocation</th>\n",
       "    </tr>\n",
       "  </thead>\n",
       "  <tbody>\n",
       "    <tr>\n",
       "      <th>8315</th>\n",
       "      <td>17031120400</td>\n",
       "      <td>Census Tract 1204, Cook County, Illinois</td>\n",
       "      <td>17</td>\n",
       "      <td>31</td>\n",
       "      <td>120400</td>\n",
       "      <td>3765</td>\n",
       "      <td>1227</td>\n",
       "      <td>112639</td>\n",
       "      <td>0.84</td>\n",
       "      <td>20.9</td>\n",
       "      <td>...</td>\n",
       "      <td>9.4</td>\n",
       "      <td>31.6</td>\n",
       "      <td>2.8</td>\n",
       "      <td>23.5</td>\n",
       "      <td>10.8</td>\n",
       "      <td>26.5</td>\n",
       "      <td>10.7</td>\n",
       "      <td>32.1</td>\n",
       "      <td>2.6</td>\n",
       "      <td>(41.97723588030, -87.7521625393)</td>\n",
       "    </tr>\n",
       "  </tbody>\n",
       "</table>\n",
       "<p>1 rows × 51 columns</p>\n",
       "</div>"
      ],
      "text/plain": [
       "            GEOID                                 Geography  state  county  \\\n",
       "8315  17031120400  Census Tract 1204, Cook County, Illinois     17      31   \n",
       "\n",
       "       tract  Total_Population  Total_Households  Median_Household_Income  \\\n",
       "8315  120400              3765              1227                   112639   \n",
       "\n",
       "      Uninsured_Rate  Rent_as_Income_Percentage  ...  DIABETES_CrudePrev  \\\n",
       "8315            0.84                       20.9  ...                 9.4   \n",
       "\n",
       "      HIGHCHOL_CrudePrev  KIDNEY_CrudePrev  LPA_CrudePrev  MHLTH_CrudePrev  \\\n",
       "8315                31.6               2.8           23.5             10.8   \n",
       "\n",
       "      OBESITY_CrudePrev PHLTH_CrudePrev  SLEEP_CrudePrev STROKE_CrudePrev  \\\n",
       "8315               26.5            10.7             32.1              2.6   \n",
       "\n",
       "                           Geolocation  \n",
       "8315  (41.97723588030, -87.7521625393)  \n",
       "\n",
       "[1 rows x 51 columns]"
      ]
     },
     "execution_count": 76,
     "metadata": {},
     "output_type": "execute_result"
    }
   ],
   "source": [
    "df_final.sample()"
   ]
  },
  {
   "cell_type": "code",
   "execution_count": 77,
   "id": "b7afa386-270d-4759-a956-fb86670e5c37",
   "metadata": {},
   "outputs": [
    {
     "data": {
      "text/plain": [
       "0"
      ]
     },
     "execution_count": 77,
     "metadata": {},
     "output_type": "execute_result"
    }
   ],
   "source": [
    "df_final.duplicated().sum()"
   ]
  },
  {
   "cell_type": "code",
   "execution_count": 78,
   "id": "e93cc17d-3bc8-49f9-9230-b7a0a611be15",
   "metadata": {},
   "outputs": [
    {
     "data": {
      "text/plain": [
       "GEOID                                0\n",
       "Geography                            0\n",
       "state                                0\n",
       "county                               0\n",
       "tract                                0\n",
       "Total_Population                     0\n",
       "Total_Households                     0\n",
       "Median_Household_Income              0\n",
       "Uninsured_Rate                       0\n",
       "Rent_as_Income_Percentage            0\n",
       "Limited_English_Proficiency_Rate     0\n",
       "No_Vehicle_Rate                      0\n",
       "No_Internet_Rate                     0\n",
       "latitude                             0\n",
       "longitude                            0\n",
       "Common State County FIPS Code        0\n",
       "HPSA Designation Date               24\n",
       "HPSA Score                          24\n",
       "HPSA Status Code                    24\n",
       "clinic                               0\n",
       "dentist                              0\n",
       "doctors                              0\n",
       "hospital                             0\n",
       "nursing_home                         0\n",
       "pharmacy                             0\n",
       "social_facility                      0\n",
       "TractFIPS                            0\n",
       "StateAbbr                            0\n",
       "PlaceName                            0\n",
       "ARTHRITIS_CrudePrev                  0\n",
       "BINGE_CrudePrev                      0\n",
       "BPHIGH_CrudePrev                     0\n",
       "BPMED_CrudePrev                      0\n",
       "CANCER_CrudePrev                     0\n",
       "CASTHMA_CrudePrev                    0\n",
       "CHD_CrudePrev                        0\n",
       "CHECKUP_CrudePrev                    0\n",
       "CHOLSCREEN_CrudePrev                 0\n",
       "COPD_CrudePrev                       0\n",
       "CSMOKING_CrudePrev                   0\n",
       "DENTAL_CrudePrev                     0\n",
       "DIABETES_CrudePrev                   0\n",
       "HIGHCHOL_CrudePrev                   0\n",
       "KIDNEY_CrudePrev                     0\n",
       "LPA_CrudePrev                        0\n",
       "MHLTH_CrudePrev                      0\n",
       "OBESITY_CrudePrev                    0\n",
       "PHLTH_CrudePrev                      0\n",
       "SLEEP_CrudePrev                      0\n",
       "STROKE_CrudePrev                     0\n",
       "Geolocation                          0\n",
       "dtype: int64"
      ]
     },
     "execution_count": 78,
     "metadata": {},
     "output_type": "execute_result"
    }
   ],
   "source": [
    "df_final.isnull().sum()"
   ]
  },
  {
   "cell_type": "code",
   "execution_count": 79,
   "id": "03555c8b-285a-4b98-b1a2-fad6ab889874",
   "metadata": {},
   "outputs": [],
   "source": [
    "df_final = df_final.dropna(subset=['HPSA Designation Date', 'HPSA Score', 'HPSA Status Code'])"
   ]
  },
  {
   "cell_type": "code",
   "execution_count": 80,
   "id": "f4754b3d-cb2b-4eb7-bde6-3430d4abf41b",
   "metadata": {},
   "outputs": [
    {
     "name": "stdout",
     "output_type": "stream",
     "text": [
      "Number of unique GEOID values: 22668\n"
     ]
    }
   ],
   "source": [
    "unique_geoids = df_final['GEOID'].dropna().unique()\n",
    "print(\"Number of unique GEOID values:\", len(unique_geoids))"
   ]
  },
  {
   "cell_type": "code",
   "execution_count": 81,
   "id": "3f00e55a-3cae-4639-a6ea-6ad402890c8c",
   "metadata": {},
   "outputs": [
    {
     "data": {
      "text/plain": [
       "(22668, 51)"
      ]
     },
     "execution_count": 81,
     "metadata": {},
     "output_type": "execute_result"
    }
   ],
   "source": [
    "df_final.shape"
   ]
  },
  {
   "cell_type": "code",
   "execution_count": 89,
   "id": "524e77b7-08a6-425a-865b-74965657cf30",
   "metadata": {},
   "outputs": [],
   "source": [
    "df_final.to_csv('combined_df.csv', index=False)"
   ]
  },
  {
   "cell_type": "markdown",
   "id": "f10dedfb-bc7b-4de6-8cb3-45b1e702cddd",
   "metadata": {},
   "source": [
    "### Heatmap"
   ]
  },
  {
   "cell_type": "code",
   "execution_count": 83,
   "id": "70f9b7d4-cc56-4e87-bdab-170da81e965e",
   "metadata": {},
   "outputs": [],
   "source": [
    "import seaborn as sns\n",
    "import matplotlib.pyplot as plt"
   ]
  },
  {
   "cell_type": "code",
   "execution_count": 86,
   "id": "1d640116-5105-4a11-809c-58cf066a734d",
   "metadata": {},
   "outputs": [
    {
     "data": {
      "image/png": "[encoded data removed]",
      "text/plain": [
       "<Figure size 1200x800 with 2 Axes>"
      ]
     },
     "metadata": {},
     "output_type": "display_data"
    }
   ],
   "source": [
    "# Correlation analysis\n",
    "columns_to_check = [\n",
    "    'Total_Population', \n",
    "    'Median_Household_Income', \n",
    "    'Rent_as_Income_Percentage', \n",
    "    'Limited_English_Proficiency_Rate', \n",
    "    'No_Vehicle_Rate', \n",
    "    'No_Internet_Rate',\n",
    "    'HPSA Score', \n",
    "    'ARTHRITIS_CrudePrev',\n",
    "    'CANCER_CrudePrev',\n",
    "    'DIABETES_CrudePrev', \n",
    "    'OBESITY_CrudePrev', \n",
    "    'STROKE_CrudePrev'\n",
    "]\n",
    "\n",
    "correlation_matrix = df_final[columns_to_check].corr()\n",
    "\n",
    "# Heatmap\n",
    "plt.figure(figsize=(12, 8))\n",
    "sns.heatmap(correlation_matrix, annot=True, cmap=\"coolwarm\", fmt=\".2f\")\n",
    "plt.title(\"Correlation Heatmap\")\n",
    "plt.show()"
   ]
  },
  {
   "cell_type": "code",
   "execution_count": null,
   "id": "159686b1-8259-435a-aa65-d5aa617ac6ae",
   "metadata": {},
   "outputs": [],
   "source": []
  }
 ],
 "metadata": {
  "kernelspec": {
   "display_name": "Python 3 (ipykernel)",
   "language": "python",
   "name": "python3"
  },
  "language_info": {
   "codemirror_mode": {
    "name": "ipython",
    "version": 3
   },
   "file_extension": ".py",
   "mimetype": "text/x-python",
   "name": "python",
   "nbconvert_exporter": "python",
   "pygments_lexer": "ipython3",
   "version": "3.12.6"
  }
 },
 "nbformat": 4,
 "nbformat_minor": 5
}
